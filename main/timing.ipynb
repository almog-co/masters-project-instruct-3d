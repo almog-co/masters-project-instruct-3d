{
 "cells": [
  {
   "cell_type": "markdown",
   "id": "2c872d8c-8b56-472b-8105-f2a47448be68",
   "metadata": {},
   "source": [
    "# Setup Model"
   ]
  },
  {
   "cell_type": "code",
   "execution_count": 5,
   "id": "dada236a-006a-4083-8df4-c4e42218ebdc",
   "metadata": {
    "tags": []
   },
   "outputs": [],
   "source": [
    "import torch\n",
    "import numpy as np\n",
    "import time\n",
    "from shap_e.diffusion.sample import sample_latents\n",
    "from shap_e.diffusion.gaussian_diffusion import diffusion_from_config\n",
    "from shap_e.models.download import load_model, load_config\n",
    "from shap_e.util.notebooks import create_pan_cameras, decode_latent_images, gif_widget, decode_latent_mesh\n",
    "from shap_e.models.nn.camera import DifferentiableCameraBatch, DifferentiableProjectiveCamera\n",
    "\n",
    "device = torch.device('cuda' if torch.cuda.is_available() else 'cpu')\n",
    "assert(device != 'cuda')\n",
    "\n",
    "SAVE_LOCATION = 'models/'\n",
    "\n",
    "xm = load_model('transmitter', device=device)\n",
    "model = load_model('text300M', device=device)\n",
    "diffusion = diffusion_from_config(load_config('diffusion'))\n",
    "\n",
    "def generateLatentFromPrompt(prompt, guidance_scale=15.0):\n",
    "    latents = sample_latents(\n",
    "        batch_size=1,\n",
    "        model=model,\n",
    "        diffusion=diffusion,\n",
    "        guidance_scale=guidance_scale,\n",
    "        model_kwargs=dict(texts=[prompt] * 1),\n",
    "        progress=True,\n",
    "        clip_denoised=True,\n",
    "        use_fp16=True,\n",
    "        use_karras=True,\n",
    "        karras_steps=128,\n",
    "        sigma_min=1e-3,\n",
    "        sigma_max=160,\n",
    "        s_churn=0,\n",
    "    )\n",
    "    \n",
    "    return latents[0]\n",
    "\n",
    "def exportLatentToObj(latent, name):\n",
    "    t = decode_latent_mesh(xm, latent).tri_mesh()\n",
    "    with open(f'{SAVE_LOCATION}{name}.obj', 'w') as f:\n",
    "        t.write_obj(f)"
   ]
  },
  {
   "cell_type": "markdown",
   "id": "a703b0b8-05d4-4361-aa6a-99e05def1679",
   "metadata": {
    "tags": []
   },
   "source": [
    "# Usage"
   ]
  },
  {
   "cell_type": "code",
   "execution_count": 2,
   "id": "c2c6cafc-6166-45a6-9a3e-fd91bb487f7a",
   "metadata": {
    "tags": []
   },
   "outputs": [
    {
     "data": {
      "application/vnd.jupyter.widget-view+json": {
       "model_id": "1fafe34ba915407a835176d415c39352",
       "version_major": 2,
       "version_minor": 0
      },
      "text/plain": [
       "  0%|          | 0/64 [00:00<?, ?it/s]"
      ]
     },
     "metadata": {},
     "output_type": "display_data"
    }
   ],
   "source": [
    "latent = generateLatentFromPrompt('A penguin made of legos')"
   ]
  },
  {
   "cell_type": "code",
   "execution_count": 3,
   "id": "2b0f71f9-2939-4f3a-b90e-d6e3125ce5dc",
   "metadata": {
    "tags": []
   },
   "outputs": [],
   "source": [
    "def create_single_pan_camera(\n",
    "    size: int,\n",
    "    device: torch.device,\n",
    "    theta: float) -> DifferentiableCameraBatch:\n",
    "    \n",
    "    # Convert theta from degrees to radians for trigonometric functions\n",
    "    theta_rad = np.radians(theta)\n",
    "    \n",
    "    # Calculate the camera's direction (z)\n",
    "    z = np.array([np.sin(theta_rad), np.cos(theta_rad), -0.5])\n",
    "    z /= np.linalg.norm(z)\n",
    "    \n",
    "    # Compute the camera's origin\n",
    "    origin = -z * 4\n",
    "    \n",
    "    # Compute the right (x) and up (y) vectors\n",
    "    x = np.array([np.cos(theta_rad), -np.sin(theta_rad), 0.0])\n",
    "    y = np.cross(z, x)\n",
    "    \n",
    "    # Reshape vectors to be 2D arrays with the second dimension of size 3\n",
    "    origin = origin.reshape(1, 3)\n",
    "    x = x.reshape(1, 3)\n",
    "    y = y.reshape(1, 3)\n",
    "    z = z.reshape(1, 3)\n",
    "    \n",
    "    # Create the DifferentiableCameraBatch object\n",
    "    return DifferentiableCameraBatch(\n",
    "        shape=(1, 1),\n",
    "        flat_camera=DifferentiableProjectiveCamera(\n",
    "            origin=torch.from_numpy(origin).float().to(device),\n",
    "            x=torch.from_numpy(x).float().to(device),\n",
    "            y=torch.from_numpy(y).float().to(device),\n",
    "            z=torch.from_numpy(z).float().to(device),\n",
    "            width=size,\n",
    "            height=size,\n",
    "            x_fov=0.7,\n",
    "            y_fov=0.7,\n",
    "        ),\n",
    "    )"
   ]
  },
  {
   "cell_type": "code",
   "execution_count": 7,
   "id": "32d50338-4a73-46de-8fb7-52cac767bc65",
   "metadata": {
    "tags": []
   },
   "outputs": [
    {
     "data": {
      "application/vnd.jupyter.widget-view+json": {
       "model_id": "f3e4d4d44b8e48e494d53fb6070b8caf",
       "version_major": 2,
       "version_minor": 0
      },
      "text/plain": [
       "HTML(value='<img src=\"data:image/gif;base64,R0lGODlhAAEAAYcAANvc3NjY19nX09bX2NbX19XX19XW19XW1tTW1tTV1tTV1dTV1N…"
      ]
     },
     "metadata": {},
     "output_type": "display_data"
    },
    {
     "name": "stdout",
     "output_type": "stream",
     "text": [
      "Completed in, 13.867968559265137\n"
     ]
    }
   ],
   "source": [
    "now = time.time()\n",
    "cameras = create_single_pan_camera(512, device, 15)\n",
    "images = decode_latent_images(xm, latent, cameras, rendering_mode='stf')\n",
    "display(gif_widget(images))\n",
    "print('Completed in,', time.time() - now)"
   ]
  },
  {
   "cell_type": "code",
   "execution_count": 21,
   "id": "77853f6c-f1d6-4f35-b705-67dd6ad9817d",
   "metadata": {
    "tags": []
   },
   "outputs": [
    {
     "ename": "TypeError",
     "evalue": "a bytes-like object is required, not 'str'",
     "output_type": "error",
     "traceback": [
      "\u001b[1;31m---------------------------------------------------------------------------\u001b[0m",
      "\u001b[1;31mTypeError\u001b[0m                                 Traceback (most recent call last)",
      "Cell \u001b[1;32mIn[21], line 4\u001b[0m\n\u001b[0;32m      2\u001b[0m t \u001b[38;5;241m=\u001b[39m decode_latent_mesh(xm, latent)\u001b[38;5;241m.\u001b[39mtri_mesh()\n\u001b[0;32m      3\u001b[0m \u001b[38;5;28;01mwith\u001b[39;00m \u001b[38;5;28mopen\u001b[39m(SAVE_LOCATION \u001b[38;5;241m+\u001b[39m \u001b[38;5;124m'\u001b[39m\u001b[38;5;124mtiming2.obj\u001b[39m\u001b[38;5;124m'\u001b[39m, \u001b[38;5;124m'\u001b[39m\u001b[38;5;124mwb\u001b[39m\u001b[38;5;124m'\u001b[39m) \u001b[38;5;28;01mas\u001b[39;00m f:\n\u001b[1;32m----> 4\u001b[0m     \u001b[43mt\u001b[49m\u001b[38;5;241;43m.\u001b[39;49m\u001b[43mwrite_obj\u001b[49m\u001b[43m(\u001b[49m\u001b[43mf\u001b[49m\u001b[43m)\u001b[49m\n\u001b[0;32m      5\u001b[0m \u001b[38;5;28mprint\u001b[39m(\u001b[38;5;124m'\u001b[39m\u001b[38;5;124mCompleted in,\u001b[39m\u001b[38;5;124m'\u001b[39m, time\u001b[38;5;241m.\u001b[39mtime() \u001b[38;5;241m-\u001b[39m now)\n",
      "File \u001b[1;32mc:\\users\\almog\\dev\\shap-e\\shap_e\\rendering\\mesh.py:107\u001b[0m, in \u001b[0;36mTriMesh.write_obj\u001b[1;34m(self, raw_f)\u001b[0m\n\u001b[0;32m    100\u001b[0m faces \u001b[38;5;241m=\u001b[39m [\n\u001b[0;32m    101\u001b[0m     \u001b[38;5;124m\"\u001b[39m\u001b[38;5;124mf \u001b[39m\u001b[38;5;132;01m{}\u001b[39;00m\u001b[38;5;124m \u001b[39m\u001b[38;5;132;01m{}\u001b[39;00m\u001b[38;5;124m \u001b[39m\u001b[38;5;132;01m{}\u001b[39;00m\u001b[38;5;124m\"\u001b[39m\u001b[38;5;241m.\u001b[39mformat(\u001b[38;5;28mstr\u001b[39m(tri[\u001b[38;5;241m0\u001b[39m] \u001b[38;5;241m+\u001b[39m \u001b[38;5;241m1\u001b[39m), \u001b[38;5;28mstr\u001b[39m(tri[\u001b[38;5;241m1\u001b[39m] \u001b[38;5;241m+\u001b[39m \u001b[38;5;241m1\u001b[39m), \u001b[38;5;28mstr\u001b[39m(tri[\u001b[38;5;241m2\u001b[39m] \u001b[38;5;241m+\u001b[39m \u001b[38;5;241m1\u001b[39m))\n\u001b[0;32m    102\u001b[0m     \u001b[38;5;28;01mfor\u001b[39;00m tri \u001b[38;5;129;01min\u001b[39;00m \u001b[38;5;28mself\u001b[39m\u001b[38;5;241m.\u001b[39mfaces\u001b[38;5;241m.\u001b[39mtolist()\n\u001b[0;32m    103\u001b[0m ]\n\u001b[0;32m    105\u001b[0m combined_data \u001b[38;5;241m=\u001b[39m [\u001b[38;5;124m\"\u001b[39m\u001b[38;5;124mv \u001b[39m\u001b[38;5;124m\"\u001b[39m \u001b[38;5;241m+\u001b[39m vertex \u001b[38;5;28;01mfor\u001b[39;00m vertex \u001b[38;5;129;01min\u001b[39;00m vertices] \u001b[38;5;241m+\u001b[39m faces\n\u001b[1;32m--> 107\u001b[0m \u001b[43mraw_f\u001b[49m\u001b[38;5;241;43m.\u001b[39;49m\u001b[43mwritelines\u001b[49m\u001b[43m(\u001b[49m\u001b[38;5;124;43m\"\u001b[39;49m\u001b[38;5;130;43;01m\\n\u001b[39;49;00m\u001b[38;5;124;43m\"\u001b[39;49m\u001b[38;5;241;43m.\u001b[39;49m\u001b[43mjoin\u001b[49m\u001b[43m(\u001b[49m\u001b[43mcombined_data\u001b[49m\u001b[43m)\u001b[49m\u001b[43m)\u001b[49m\n",
      "\u001b[1;31mTypeError\u001b[0m: a bytes-like object is required, not 'str'"
     ]
    }
   ],
   "source": [
    "now = time.time()\n",
    "t = decode_latent_mesh(xm, latent).tri_mesh()\n",
    "#with open(SAVE_LOCATION + 'timing2.obj', 'wb') as f:\n",
    "#    t.write_obj(f)\n",
    "print('Completed in,', time.time() - now)"
   ]
  },
  {
   "cell_type": "code",
   "execution_count": 17,
   "id": "fb29a8e4-85c2-49f4-a251-16f4e3e184ec",
   "metadata": {},
   "outputs": [
    {
     "name": "stdout",
     "output_type": "stream",
     "text": [
      "torch.Size([1048576])\n"
     ]
    }
   ],
   "source": [
    "print(latent.shape)"
   ]
  },
  {
   "cell_type": "code",
   "execution_count": 6,
   "id": "f2e485b0-1ef2-4ad2-80ea-2806ed17bb08",
   "metadata": {},
   "outputs": [],
   "source": [
    "exportLatentToObj(latent, 'legop')"
   ]
  },
  {
   "cell_type": "code",
   "execution_count": null,
   "id": "96e9c870-9143-4a62-a77d-a758546448f9",
   "metadata": {},
   "outputs": [],
   "source": []
  }
 ],
 "metadata": {
  "kernelspec": {
   "display_name": "Python 3 (ipykernel)",
   "language": "python",
   "name": "python3"
  },
  "language_info": {
   "codemirror_mode": {
    "name": "ipython",
    "version": 3
   },
   "file_extension": ".py",
   "mimetype": "text/x-python",
   "name": "python",
   "nbconvert_exporter": "python",
   "pygments_lexer": "ipython3",
   "version": "3.10.13"
  }
 },
 "nbformat": 4,
 "nbformat_minor": 5
}
