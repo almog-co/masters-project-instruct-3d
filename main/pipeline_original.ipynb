{
 "cells": [
  {
   "cell_type": "code",
   "execution_count": 1,
   "id": "3d336f04-be07-48c8-a7d6-3721a9dde7ae",
   "metadata": {
    "tags": []
   },
   "outputs": [],
   "source": [
    "import Viewer3D.Viewer3D as Viewer3D\n",
    "import os"
   ]
  },
  {
   "cell_type": "code",
   "execution_count": 2,
   "id": "8b508575-464b-4c3b-9003-7ea77c23b21c",
   "metadata": {},
   "outputs": [],
   "source": [
    "OBJS_PATH = r'C:\\Users\\Almog\\Dev\\shap-e\\project\\models\\a blue backpack.obj'\n",
    "\n",
    "imgs = Viewer3D.generateImagesTriMesh(OBJS_PATH)"
   ]
  },
  {
   "cell_type": "code",
   "execution_count": 8,
   "id": "b74e593b-9308-4d15-b349-20ac58727fad",
   "metadata": {},
   "outputs": [],
   "source": [
    "OBJS_PATH = r'C:\\Users\\Almog\\Dev\\shap-e\\project\\shared_old\\edited_meshes\\A backpack - turn the backpack into denim.obj'\n",
    "\n",
    "imgs2 = Viewer3D.generateImagesTriMesh(OBJS_PATH)"
   ]
  },
  {
   "cell_type": "code",
   "execution_count": 10,
   "id": "44e4bdac-2d91-4c72-849d-fe754cdfd4ab",
   "metadata": {
    "tags": []
   },
   "outputs": [],
   "source": [
    "imgs2[0].save('report2.png')\n",
    "imgs[0].save('report1.png')"
   ]
  },
  {
   "cell_type": "code",
   "execution_count": null,
   "id": "9ca674f0-61c3-484d-a3d7-b3f4318bb761",
   "metadata": {},
   "outputs": [],
   "source": []
  },
  {
   "cell_type": "code",
   "execution_count": 3,
   "id": "c0c77832-6256-4c43-9d20-82c0333bd151",
   "metadata": {
    "tags": []
   },
   "outputs": [],
   "source": [
    "FOLDER = r'C:\\Users\\Almog\\Dev\\shap-e\\project\\shared_old\\alternate_meshes'\n",
    "\n",
    "for file in os.listdir(FOLDER):\n",
    "    mesh_filename = os.path.join(FOLDER, file)\n",
    "    imgs = Viewer3D.generateImagesTriMesh(mesh_filename)\n",
    "    \n",
    "    try:\n",
    "        for i, img in enumerate(imgs):\n",
    "            img.save(f'shared_old/report/alt-{file}-{i}.png')\n",
    "    except:\n",
    "        pass"
   ]
  },
  {
   "cell_type": "code",
   "execution_count": null,
   "id": "d0e0e421-d516-4425-9ee8-6f2be6bee9c4",
   "metadata": {},
   "outputs": [],
   "source": []
  }
 ],
 "metadata": {
  "kernelspec": {
   "display_name": "Python 3 (ipykernel)",
   "language": "python",
   "name": "python3"
  },
  "language_info": {
   "codemirror_mode": {
    "name": "ipython",
    "version": 3
   },
   "file_extension": ".py",
   "mimetype": "text/x-python",
   "name": "python",
   "nbconvert_exporter": "python",
   "pygments_lexer": "ipython3",
   "version": "3.10.13"
  }
 },
 "nbformat": 4,
 "nbformat_minor": 5
}
